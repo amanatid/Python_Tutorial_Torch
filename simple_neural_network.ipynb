{
  "nbformat": 4,
  "nbformat_minor": 0,
  "metadata": {
    "colab": {
      "provenance": [],
      "authorship_tag": "ABX9TyPDm8H4jRLoaNlBpJ0FRvqC",
      "include_colab_link": true
    },
    "kernelspec": {
      "name": "python3",
      "display_name": "Python 3"
    },
    "language_info": {
      "name": "python"
    }
  },
  "cells": [
    {
      "cell_type": "markdown",
      "metadata": {
        "id": "view-in-github",
        "colab_type": "text"
      },
      "source": [
        "<a href=\"https://colab.research.google.com/github/amanatid/Python_Tutorial_Torch/blob/main/simple_neural_network.ipynb\" target=\"_parent\"><img src=\"https://colab.research.google.com/assets/colab-badge.svg\" alt=\"Open In Colab\"/></a>"
      ]
    },
    {
      "cell_type": "code",
      "execution_count": null,
      "metadata": {
        "id": "eU1JWcvtFyoC"
      },
      "outputs": [],
      "source": [
        "import torch\n",
        "import torch.nn as nn\n",
        "import torch.nn.functional as F"
      ]
    },
    {
      "cell_type": "code",
      "source": [
        "#Create a class model that inherits nn.Module\n",
        "class Model(nn.Module):\n",
        "  # Input Layer(4 features of the flower)  -->\n",
        "  # Hidden Layer 1 (number of neurons) -->\n",
        "  # H2(n)(hiden layer 2 of n number of neurons) -->\n",
        "  # output (3 classes of iris flowers)\n",
        "  def __init__(self, in_features=4, h1=8, h2=9, out_features=3):\n",
        "      super().__init__() #instaniate our  nn.Model\n",
        "      self.fc1 = nn.Linear(in_features, h1)\n",
        "      self.fc2 = nn.Linear(h1, h2)\n",
        "      self.out = nn.Linear(h2, out_features)\n",
        "\n",
        "  def forward(self, x):\n",
        "      x = F.relu(self.fc1(x))\n",
        "      x = F.relu(self.fc2(x))\n",
        "      x = self.out(x)\n",
        "\n",
        "      return x\n"
      ],
      "metadata": {
        "id": "CFs9db43IkZJ"
      },
      "execution_count": null,
      "outputs": []
    },
    {
      "cell_type": "code",
      "source": [
        "#pickup a manual seed for randomization\n",
        "torch.manual_seed(41)\n",
        "#create an instance of model\n",
        "model = Model()"
      ],
      "metadata": {
        "id": "4gZ42MHxMliJ"
      },
      "execution_count": null,
      "outputs": []
    },
    {
      "cell_type": "code",
      "source": [
        "import pandas as pd\n",
        "import matplotlib.pyplot as plt\n",
        "%matplotlib inline"
      ],
      "metadata": {
        "id": "ZFZJshDSKbtA"
      },
      "execution_count": null,
      "outputs": []
    },
    {
      "cell_type": "code",
      "source": [
        "url = 'https://gist.githubusercontent.com/netj/8836201/raw/6f9306ad21398ea43cba4f7d537619d0e07d5ae3/iris.csv'\n",
        "my_df = pd.read_csv(url)"
      ],
      "metadata": {
        "id": "SafkBZSCKulv"
      },
      "execution_count": null,
      "outputs": []
    },
    {
      "cell_type": "code",
      "source": [
        "my_df.head()"
      ],
      "metadata": {
        "id": "NYKadUxeLK1v",
        "outputId": "af060a21-3fb0-4c97-a451-aa49bad4890b",
        "colab": {
          "base_uri": "https://localhost:8080/",
          "height": 206
        }
      },
      "execution_count": null,
      "outputs": [
        {
          "output_type": "execute_result",
          "data": {
            "text/plain": [
              "   sepal.length  sepal.width  petal.length  petal.width variety\n",
              "0           5.1          3.5           1.4          0.2  Setosa\n",
              "1           4.9          3.0           1.4          0.2  Setosa\n",
              "2           4.7          3.2           1.3          0.2  Setosa\n",
              "3           4.6          3.1           1.5          0.2  Setosa\n",
              "4           5.0          3.6           1.4          0.2  Setosa"
            ],
            "text/html": [
              "\n",
              "  <div id=\"df-56888a31-3f64-412a-9407-683ba313483b\">\n",
              "    <div class=\"colab-df-container\">\n",
              "      <div>\n",
              "<style scoped>\n",
              "    .dataframe tbody tr th:only-of-type {\n",
              "        vertical-align: middle;\n",
              "    }\n",
              "\n",
              "    .dataframe tbody tr th {\n",
              "        vertical-align: top;\n",
              "    }\n",
              "\n",
              "    .dataframe thead th {\n",
              "        text-align: right;\n",
              "    }\n",
              "</style>\n",
              "<table border=\"1\" class=\"dataframe\">\n",
              "  <thead>\n",
              "    <tr style=\"text-align: right;\">\n",
              "      <th></th>\n",
              "      <th>sepal.length</th>\n",
              "      <th>sepal.width</th>\n",
              "      <th>petal.length</th>\n",
              "      <th>petal.width</th>\n",
              "      <th>variety</th>\n",
              "    </tr>\n",
              "  </thead>\n",
              "  <tbody>\n",
              "    <tr>\n",
              "      <th>0</th>\n",
              "      <td>5.1</td>\n",
              "      <td>3.5</td>\n",
              "      <td>1.4</td>\n",
              "      <td>0.2</td>\n",
              "      <td>Setosa</td>\n",
              "    </tr>\n",
              "    <tr>\n",
              "      <th>1</th>\n",
              "      <td>4.9</td>\n",
              "      <td>3.0</td>\n",
              "      <td>1.4</td>\n",
              "      <td>0.2</td>\n",
              "      <td>Setosa</td>\n",
              "    </tr>\n",
              "    <tr>\n",
              "      <th>2</th>\n",
              "      <td>4.7</td>\n",
              "      <td>3.2</td>\n",
              "      <td>1.3</td>\n",
              "      <td>0.2</td>\n",
              "      <td>Setosa</td>\n",
              "    </tr>\n",
              "    <tr>\n",
              "      <th>3</th>\n",
              "      <td>4.6</td>\n",
              "      <td>3.1</td>\n",
              "      <td>1.5</td>\n",
              "      <td>0.2</td>\n",
              "      <td>Setosa</td>\n",
              "    </tr>\n",
              "    <tr>\n",
              "      <th>4</th>\n",
              "      <td>5.0</td>\n",
              "      <td>3.6</td>\n",
              "      <td>1.4</td>\n",
              "      <td>0.2</td>\n",
              "      <td>Setosa</td>\n",
              "    </tr>\n",
              "  </tbody>\n",
              "</table>\n",
              "</div>\n",
              "      <button class=\"colab-df-convert\" onclick=\"convertToInteractive('df-56888a31-3f64-412a-9407-683ba313483b')\"\n",
              "              title=\"Convert this dataframe to an interactive table.\"\n",
              "              style=\"display:none;\">\n",
              "        \n",
              "  <svg xmlns=\"http://www.w3.org/2000/svg\" height=\"24px\"viewBox=\"0 0 24 24\"\n",
              "       width=\"24px\">\n",
              "    <path d=\"M0 0h24v24H0V0z\" fill=\"none\"/>\n",
              "    <path d=\"M18.56 5.44l.94 2.06.94-2.06 2.06-.94-2.06-.94-.94-2.06-.94 2.06-2.06.94zm-11 1L8.5 8.5l.94-2.06 2.06-.94-2.06-.94L8.5 2.5l-.94 2.06-2.06.94zm10 10l.94 2.06.94-2.06 2.06-.94-2.06-.94-.94-2.06-.94 2.06-2.06.94z\"/><path d=\"M17.41 7.96l-1.37-1.37c-.4-.4-.92-.59-1.43-.59-.52 0-1.04.2-1.43.59L10.3 9.45l-7.72 7.72c-.78.78-.78 2.05 0 2.83L4 21.41c.39.39.9.59 1.41.59.51 0 1.02-.2 1.41-.59l7.78-7.78 2.81-2.81c.8-.78.8-2.07 0-2.86zM5.41 20L4 18.59l7.72-7.72 1.47 1.35L5.41 20z\"/>\n",
              "  </svg>\n",
              "      </button>\n",
              "      \n",
              "  <style>\n",
              "    .colab-df-container {\n",
              "      display:flex;\n",
              "      flex-wrap:wrap;\n",
              "      gap: 12px;\n",
              "    }\n",
              "\n",
              "    .colab-df-convert {\n",
              "      background-color: #E8F0FE;\n",
              "      border: none;\n",
              "      border-radius: 50%;\n",
              "      cursor: pointer;\n",
              "      display: none;\n",
              "      fill: #1967D2;\n",
              "      height: 32px;\n",
              "      padding: 0 0 0 0;\n",
              "      width: 32px;\n",
              "    }\n",
              "\n",
              "    .colab-df-convert:hover {\n",
              "      background-color: #E2EBFA;\n",
              "      box-shadow: 0px 1px 2px rgba(60, 64, 67, 0.3), 0px 1px 3px 1px rgba(60, 64, 67, 0.15);\n",
              "      fill: #174EA6;\n",
              "    }\n",
              "\n",
              "    [theme=dark] .colab-df-convert {\n",
              "      background-color: #3B4455;\n",
              "      fill: #D2E3FC;\n",
              "    }\n",
              "\n",
              "    [theme=dark] .colab-df-convert:hover {\n",
              "      background-color: #434B5C;\n",
              "      box-shadow: 0px 1px 3px 1px rgba(0, 0, 0, 0.15);\n",
              "      filter: drop-shadow(0px 1px 2px rgba(0, 0, 0, 0.3));\n",
              "      fill: #FFFFFF;\n",
              "    }\n",
              "  </style>\n",
              "\n",
              "      <script>\n",
              "        const buttonEl =\n",
              "          document.querySelector('#df-56888a31-3f64-412a-9407-683ba313483b button.colab-df-convert');\n",
              "        buttonEl.style.display =\n",
              "          google.colab.kernel.accessAllowed ? 'block' : 'none';\n",
              "\n",
              "        async function convertToInteractive(key) {\n",
              "          const element = document.querySelector('#df-56888a31-3f64-412a-9407-683ba313483b');\n",
              "          const dataTable =\n",
              "            await google.colab.kernel.invokeFunction('convertToInteractive',\n",
              "                                                     [key], {});\n",
              "          if (!dataTable) return;\n",
              "\n",
              "          const docLinkHtml = 'Like what you see? Visit the ' +\n",
              "            '<a target=\"_blank\" href=https://colab.research.google.com/notebooks/data_table.ipynb>data table notebook</a>'\n",
              "            + ' to learn more about interactive tables.';\n",
              "          element.innerHTML = '';\n",
              "          dataTable['output_type'] = 'display_data';\n",
              "          await google.colab.output.renderOutput(dataTable, element);\n",
              "          const docLink = document.createElement('div');\n",
              "          docLink.innerHTML = docLinkHtml;\n",
              "          element.appendChild(docLink);\n",
              "        }\n",
              "      </script>\n",
              "    </div>\n",
              "  </div>\n",
              "  "
            ]
          },
          "metadata": {},
          "execution_count": 42
        }
      ]
    },
    {
      "cell_type": "code",
      "source": [
        "#Change Columns Strings to Integers\n",
        "my_df['variety']= my_df['variety'].replace('Setosa',0.0)\n",
        "my_df['variety'] = my_df['variety'].replace('Versicolor',1.0)\n",
        "my_df['variety'] = my_df['variety'].replace('Virginica',2.0)\n",
        "my_df.head(100)"
      ],
      "metadata": {
        "id": "KAiQyHVnLUgP",
        "outputId": "709bc82b-f4f8-4bca-dc22-454f4c3199e0",
        "colab": {
          "base_uri": "https://localhost:8080/",
          "height": 423
        }
      },
      "execution_count": null,
      "outputs": [
        {
          "output_type": "execute_result",
          "data": {
            "text/plain": [
              "    sepal.length  sepal.width  petal.length  petal.width  variety\n",
              "0            5.1          3.5           1.4          0.2      0.0\n",
              "1            4.9          3.0           1.4          0.2      0.0\n",
              "2            4.7          3.2           1.3          0.2      0.0\n",
              "3            4.6          3.1           1.5          0.2      0.0\n",
              "4            5.0          3.6           1.4          0.2      0.0\n",
              "..           ...          ...           ...          ...      ...\n",
              "95           5.7          3.0           4.2          1.2      1.0\n",
              "96           5.7          2.9           4.2          1.3      1.0\n",
              "97           6.2          2.9           4.3          1.3      1.0\n",
              "98           5.1          2.5           3.0          1.1      1.0\n",
              "99           5.7          2.8           4.1          1.3      1.0\n",
              "\n",
              "[100 rows x 5 columns]"
            ],
            "text/html": [
              "\n",
              "  <div id=\"df-332ae813-5b8e-423d-be5b-4730f09dc0a6\">\n",
              "    <div class=\"colab-df-container\">\n",
              "      <div>\n",
              "<style scoped>\n",
              "    .dataframe tbody tr th:only-of-type {\n",
              "        vertical-align: middle;\n",
              "    }\n",
              "\n",
              "    .dataframe tbody tr th {\n",
              "        vertical-align: top;\n",
              "    }\n",
              "\n",
              "    .dataframe thead th {\n",
              "        text-align: right;\n",
              "    }\n",
              "</style>\n",
              "<table border=\"1\" class=\"dataframe\">\n",
              "  <thead>\n",
              "    <tr style=\"text-align: right;\">\n",
              "      <th></th>\n",
              "      <th>sepal.length</th>\n",
              "      <th>sepal.width</th>\n",
              "      <th>petal.length</th>\n",
              "      <th>petal.width</th>\n",
              "      <th>variety</th>\n",
              "    </tr>\n",
              "  </thead>\n",
              "  <tbody>\n",
              "    <tr>\n",
              "      <th>0</th>\n",
              "      <td>5.1</td>\n",
              "      <td>3.5</td>\n",
              "      <td>1.4</td>\n",
              "      <td>0.2</td>\n",
              "      <td>0.0</td>\n",
              "    </tr>\n",
              "    <tr>\n",
              "      <th>1</th>\n",
              "      <td>4.9</td>\n",
              "      <td>3.0</td>\n",
              "      <td>1.4</td>\n",
              "      <td>0.2</td>\n",
              "      <td>0.0</td>\n",
              "    </tr>\n",
              "    <tr>\n",
              "      <th>2</th>\n",
              "      <td>4.7</td>\n",
              "      <td>3.2</td>\n",
              "      <td>1.3</td>\n",
              "      <td>0.2</td>\n",
              "      <td>0.0</td>\n",
              "    </tr>\n",
              "    <tr>\n",
              "      <th>3</th>\n",
              "      <td>4.6</td>\n",
              "      <td>3.1</td>\n",
              "      <td>1.5</td>\n",
              "      <td>0.2</td>\n",
              "      <td>0.0</td>\n",
              "    </tr>\n",
              "    <tr>\n",
              "      <th>4</th>\n",
              "      <td>5.0</td>\n",
              "      <td>3.6</td>\n",
              "      <td>1.4</td>\n",
              "      <td>0.2</td>\n",
              "      <td>0.0</td>\n",
              "    </tr>\n",
              "    <tr>\n",
              "      <th>...</th>\n",
              "      <td>...</td>\n",
              "      <td>...</td>\n",
              "      <td>...</td>\n",
              "      <td>...</td>\n",
              "      <td>...</td>\n",
              "    </tr>\n",
              "    <tr>\n",
              "      <th>95</th>\n",
              "      <td>5.7</td>\n",
              "      <td>3.0</td>\n",
              "      <td>4.2</td>\n",
              "      <td>1.2</td>\n",
              "      <td>1.0</td>\n",
              "    </tr>\n",
              "    <tr>\n",
              "      <th>96</th>\n",
              "      <td>5.7</td>\n",
              "      <td>2.9</td>\n",
              "      <td>4.2</td>\n",
              "      <td>1.3</td>\n",
              "      <td>1.0</td>\n",
              "    </tr>\n",
              "    <tr>\n",
              "      <th>97</th>\n",
              "      <td>6.2</td>\n",
              "      <td>2.9</td>\n",
              "      <td>4.3</td>\n",
              "      <td>1.3</td>\n",
              "      <td>1.0</td>\n",
              "    </tr>\n",
              "    <tr>\n",
              "      <th>98</th>\n",
              "      <td>5.1</td>\n",
              "      <td>2.5</td>\n",
              "      <td>3.0</td>\n",
              "      <td>1.1</td>\n",
              "      <td>1.0</td>\n",
              "    </tr>\n",
              "    <tr>\n",
              "      <th>99</th>\n",
              "      <td>5.7</td>\n",
              "      <td>2.8</td>\n",
              "      <td>4.1</td>\n",
              "      <td>1.3</td>\n",
              "      <td>1.0</td>\n",
              "    </tr>\n",
              "  </tbody>\n",
              "</table>\n",
              "<p>100 rows × 5 columns</p>\n",
              "</div>\n",
              "      <button class=\"colab-df-convert\" onclick=\"convertToInteractive('df-332ae813-5b8e-423d-be5b-4730f09dc0a6')\"\n",
              "              title=\"Convert this dataframe to an interactive table.\"\n",
              "              style=\"display:none;\">\n",
              "        \n",
              "  <svg xmlns=\"http://www.w3.org/2000/svg\" height=\"24px\"viewBox=\"0 0 24 24\"\n",
              "       width=\"24px\">\n",
              "    <path d=\"M0 0h24v24H0V0z\" fill=\"none\"/>\n",
              "    <path d=\"M18.56 5.44l.94 2.06.94-2.06 2.06-.94-2.06-.94-.94-2.06-.94 2.06-2.06.94zm-11 1L8.5 8.5l.94-2.06 2.06-.94-2.06-.94L8.5 2.5l-.94 2.06-2.06.94zm10 10l.94 2.06.94-2.06 2.06-.94-2.06-.94-.94-2.06-.94 2.06-2.06.94z\"/><path d=\"M17.41 7.96l-1.37-1.37c-.4-.4-.92-.59-1.43-.59-.52 0-1.04.2-1.43.59L10.3 9.45l-7.72 7.72c-.78.78-.78 2.05 0 2.83L4 21.41c.39.39.9.59 1.41.59.51 0 1.02-.2 1.41-.59l7.78-7.78 2.81-2.81c.8-.78.8-2.07 0-2.86zM5.41 20L4 18.59l7.72-7.72 1.47 1.35L5.41 20z\"/>\n",
              "  </svg>\n",
              "      </button>\n",
              "      \n",
              "  <style>\n",
              "    .colab-df-container {\n",
              "      display:flex;\n",
              "      flex-wrap:wrap;\n",
              "      gap: 12px;\n",
              "    }\n",
              "\n",
              "    .colab-df-convert {\n",
              "      background-color: #E8F0FE;\n",
              "      border: none;\n",
              "      border-radius: 50%;\n",
              "      cursor: pointer;\n",
              "      display: none;\n",
              "      fill: #1967D2;\n",
              "      height: 32px;\n",
              "      padding: 0 0 0 0;\n",
              "      width: 32px;\n",
              "    }\n",
              "\n",
              "    .colab-df-convert:hover {\n",
              "      background-color: #E2EBFA;\n",
              "      box-shadow: 0px 1px 2px rgba(60, 64, 67, 0.3), 0px 1px 3px 1px rgba(60, 64, 67, 0.15);\n",
              "      fill: #174EA6;\n",
              "    }\n",
              "\n",
              "    [theme=dark] .colab-df-convert {\n",
              "      background-color: #3B4455;\n",
              "      fill: #D2E3FC;\n",
              "    }\n",
              "\n",
              "    [theme=dark] .colab-df-convert:hover {\n",
              "      background-color: #434B5C;\n",
              "      box-shadow: 0px 1px 3px 1px rgba(0, 0, 0, 0.15);\n",
              "      filter: drop-shadow(0px 1px 2px rgba(0, 0, 0, 0.3));\n",
              "      fill: #FFFFFF;\n",
              "    }\n",
              "  </style>\n",
              "\n",
              "      <script>\n",
              "        const buttonEl =\n",
              "          document.querySelector('#df-332ae813-5b8e-423d-be5b-4730f09dc0a6 button.colab-df-convert');\n",
              "        buttonEl.style.display =\n",
              "          google.colab.kernel.accessAllowed ? 'block' : 'none';\n",
              "\n",
              "        async function convertToInteractive(key) {\n",
              "          const element = document.querySelector('#df-332ae813-5b8e-423d-be5b-4730f09dc0a6');\n",
              "          const dataTable =\n",
              "            await google.colab.kernel.invokeFunction('convertToInteractive',\n",
              "                                                     [key], {});\n",
              "          if (!dataTable) return;\n",
              "\n",
              "          const docLinkHtml = 'Like what you see? Visit the ' +\n",
              "            '<a target=\"_blank\" href=https://colab.research.google.com/notebooks/data_table.ipynb>data table notebook</a>'\n",
              "            + ' to learn more about interactive tables.';\n",
              "          element.innerHTML = '';\n",
              "          dataTable['output_type'] = 'display_data';\n",
              "          await google.colab.output.renderOutput(dataTable, element);\n",
              "          const docLink = document.createElement('div');\n",
              "          docLink.innerHTML = docLinkHtml;\n",
              "          element.appendChild(docLink);\n",
              "        }\n",
              "      </script>\n",
              "    </div>\n",
              "  </div>\n",
              "  "
            ]
          },
          "metadata": {},
          "execution_count": 44
        }
      ]
    },
    {
      "cell_type": "code",
      "source": [
        "#Train and split! X , Y\n",
        "X= my_df.drop('variety', axis=1)\n",
        "y= my_df['variety']\n"
      ],
      "metadata": {
        "id": "uqPZaYCLMAG3"
      },
      "execution_count": null,
      "outputs": []
    },
    {
      "cell_type": "code",
      "source": [
        "#Convert these to numpy arrays\n",
        "X= X.values\n",
        "y= y.values"
      ],
      "metadata": {
        "id": "PHsFoipsMZWP"
      },
      "execution_count": null,
      "outputs": []
    },
    {
      "cell_type": "code",
      "source": [
        "from sklearn.model_selection import  train_test_split"
      ],
      "metadata": {
        "id": "vPfD7JEHM3WH"
      },
      "execution_count": null,
      "outputs": []
    },
    {
      "cell_type": "code",
      "source": [
        "#Train Test Split\n",
        "X_train, X_test,y_train, y_test = train_test_split(X,y, test_size=0.2, random_state=41)"
      ],
      "metadata": {
        "id": "bHzVxtmZNBZX"
      },
      "execution_count": null,
      "outputs": []
    },
    {
      "cell_type": "code",
      "source": [
        "#Convert X features to float tensors\n",
        "X_train = torch.FloatTensor(X_train)\n",
        "X_test = torch.FloatTensor(X_test)"
      ],
      "metadata": {
        "id": "B1xaWbppNpQv"
      },
      "execution_count": null,
      "outputs": []
    },
    {
      "cell_type": "code",
      "source": [
        "#Converty labels to tensor long\n",
        "y_train = torch.LongTensor(y_train)\n",
        "y_test = torch.LongTensor(y_test)"
      ],
      "metadata": {
        "id": "K6LdJYLtO7pm"
      },
      "execution_count": null,
      "outputs": []
    },
    {
      "cell_type": "code",
      "source": [
        "#set the criterion of model to measure the error, how far our predictions are from the data)\n",
        "criterion = nn.CrossEntropyLoss()\n",
        "#Choose Adam optimizer, lr = learning rate (if error doesn't go down after bunch of iterations(epochs), lower our learning rate )\n",
        "optimizer = torch.optim.Adam(model.parameters(),lr=0.01)"
      ],
      "metadata": {
        "id": "YYtrEMYePd_n"
      },
      "execution_count": null,
      "outputs": []
    },
    {
      "cell_type": "code",
      "source": [
        "#Train our Model\n",
        "#Epochs?(one run through all the training data)\n",
        "epochs = 100\n",
        "losses = []\n",
        "for i in range(epochs):\n",
        "  #Go forward and get a prediction\n",
        "  y_pred = model.forward(X_train) #Get predicted results\n",
        "\n",
        "  #measure loss/error gonna  be high at first\n",
        "  loss = criterion(y_pred,y_train) #predicted values  vs the  y_train\n",
        "\n",
        "  #keep track of our losess\n",
        "  losses.append(loss.detach().numpy())\n",
        "\n",
        "  #print every 10 epochs\n",
        "  if i%10 == 0:\n",
        "    print(f'Epoch: {i} and loss {loss}')\n",
        "  #do some back propagation: take the error forward propagation and feed it back\n",
        "  #thru the network and fine tune the weights\n",
        "  optimizer.zero_grad()\n",
        "  loss.backward()\n",
        "  optimizer.step()\n"
      ],
      "metadata": {
        "id": "NQPdx7kkSlIc",
        "outputId": "adcac05a-2861-4703-f166-4c60b616c513",
        "colab": {
          "base_uri": "https://localhost:8080/"
        }
      },
      "execution_count": null,
      "outputs": [
        {
          "output_type": "stream",
          "name": "stdout",
          "text": [
            "Epoch: 0 and loss 0.017991583794355392\n",
            "Epoch: 10 and loss 0.017581406980752945\n",
            "Epoch: 20 and loss 0.017188003286719322\n",
            "Epoch: 30 and loss 0.01680995337665081\n",
            "Epoch: 40 and loss 0.016445940360426903\n",
            "Epoch: 50 and loss 0.01609533280134201\n",
            "Epoch: 60 and loss 0.01575668342411518\n",
            "Epoch: 70 and loss 0.015429061837494373\n",
            "Epoch: 80 and loss 0.015111792832612991\n",
            "Epoch: 90 and loss 0.014803951606154442\n"
          ]
        }
      ]
    },
    {
      "cell_type": "code",
      "source": [
        "#Graph it out\n",
        "plt.plot( range(epochs), losses)\n",
        "plt.ylabel('losses/error')\n",
        "plt.xlabel('Epoch')\n"
      ],
      "metadata": {
        "id": "xVaSt_rOVyHc",
        "outputId": "7ed6bc62-cbea-4705-837c-0364dd73786f",
        "colab": {
          "base_uri": "https://localhost:8080/",
          "height": 466
        }
      },
      "execution_count": null,
      "outputs": [
        {
          "output_type": "execute_result",
          "data": {
            "text/plain": [
              "Text(0.5, 0, 'Epoch')"
            ]
          },
          "metadata": {},
          "execution_count": 60
        },
        {
          "output_type": "display_data",
          "data": {
            "text/plain": [
              "<Figure size 640x480 with 1 Axes>"
            ],
            "image/png": "[encoded data removed]"
          },
          "metadata": {}
        }
      ]
    },
    {
      "cell_type": "code",
      "source": [
        "with torch.no_grad(): # Basically turn off back propagation\n",
        "      y_eval = model.forward(X_test) # X_test are our features from our test set, y_eval will be\n",
        "      loss = criterion(y_eval, y_test) # Find the loss of error"
      ],
      "metadata": {
        "id": "oyG7h1zuWdt8"
      },
      "execution_count": null,
      "outputs": []
    },
    {
      "cell_type": "code",
      "source": [
        "loss"
      ],
      "metadata": {
        "id": "7blEUfmmh7aR",
        "outputId": "aa4fcd45-cbbe-47ec-9a96-bd2c7666a09c",
        "colab": {
          "base_uri": "https://localhost:8080/"
        }
      },
      "execution_count": null,
      "outputs": [
        {
          "output_type": "execute_result",
          "data": {
            "text/plain": [
              "tensor(0.1970)"
            ]
          },
          "metadata": {},
          "execution_count": 62
        }
      ]
    },
    {
      "cell_type": "code",
      "source": [
        "correct =0\n",
        "with torch.no_grad():\n",
        "    for i, data in enumerate(X_test):\n",
        "        y_val = model.forward(data)\n",
        "\n",
        "        if y_test[i] == 0:\n",
        "           x = 'Setosa'\n",
        "        elif y_test[i]==1:\n",
        "           x = 'VersiColor'\n",
        "        else:\n",
        "           x = 'Virginica'\n",
        "       # will tell us what type of  flower class our network think it is\n",
        "        print(f'{i+1}.)  {str(y_val)} \\t  {str(y_test[i])}  \\t  {y_val.argmax().item()}'  )\n",
        "\n",
        "       # Correct or not\n",
        "        if y_val.argmax().item() == y_test[i]:\n",
        "           correct+=1\n",
        "\n",
        "print(f'We got {correct} correct!')"
      ],
      "metadata": {
        "id": "nh_iQ9jSh-jB",
        "outputId": "2d5dabd3-55e7-40a5-c9fd-f51ba2f049f1",
        "colab": {
          "base_uri": "https://localhost:8080/"
        }
      },
      "execution_count": null,
      "outputs": [
        {
          "output_type": "stream",
          "name": "stdout",
          "text": [
            "1.)  tensor([-2.9206,  0.8189,  6.4617]) \t  tensor(2)  \t  2\n",
            "2.)  tensor([-3.5538,  0.0727,  8.5780]) \t  tensor(2)  \t  2\n",
            "3.)  tensor([-3.8663, -0.1295,  9.5646]) \t  tensor(2)  \t  2\n",
            "4.)  tensor([ 0.3641,  6.6372, -3.8690]) \t  tensor(1)  \t  1\n",
            "5.)  tensor([-3.6150,  0.0342,  8.7710]) \t  tensor(2)  \t  2\n",
            "6.)  tensor([ 0.9649,  8.6799, -5.5638]) \t  tensor(1)  \t  1\n",
            "7.)  tensor([-2.4435,  1.8113,  4.8073]) \t  tensor(2)  \t  2\n",
            "8.)  tensor([ 0.4277,  6.8710, -4.0706]) \t  tensor(1)  \t  1\n",
            "9.)  tensor([-3.1980,  0.6516,  7.3332]) \t  tensor(2)  \t  2\n",
            "10.)  tensor([-3.7347, -0.0462,  9.1497]) \t  tensor(2)  \t  2\n",
            "11.)  tensor([-2.1339,  2.3535,  3.8355]) \t  tensor(2)  \t  2\n",
            "12.)  tensor([ 19.3906,   8.6734, -23.7652]) \t  tensor(0)  \t  0\n",
            "13.)  tensor([ 17.6880,   7.9448, -21.6715]) \t  tensor(0)  \t  0\n",
            "14.)  tensor([ 1.0529,  8.9448, -5.7730]) \t  tensor(1)  \t  1\n",
            "15.)  tensor([ 15.9400,   8.8282, -20.4383]) \t  tensor(0)  \t  0\n",
            "16.)  tensor([-1.5623,  3.3025,  2.0755]) \t  tensor(2)  \t  1\n",
            "17.)  tensor([ 17.3329,   8.3470, -21.5455]) \t  tensor(0)  \t  0\n",
            "18.)  tensor([-2.6607,  1.3778,  5.5050]) \t  tensor(1)  \t  2\n",
            "19.)  tensor([ 20.7946,   8.5629, -25.0978]) \t  tensor(0)  \t  0\n",
            "20.)  tensor([ 15.0444,   7.7064, -18.9076]) \t  tensor(0)  \t  0\n",
            "21.)  tensor([ 1.0244,  8.8629, -5.7071]) \t  tensor(1)  \t  1\n",
            "22.)  tensor([-3.7231, -0.0386,  9.1130]) \t  tensor(2)  \t  2\n",
            "23.)  tensor([ 16.1307,   8.8852, -20.6630]) \t  tensor(0)  \t  0\n",
            "24.)  tensor([ 18.9364,   8.2479, -23.0766]) \t  tensor(0)  \t  0\n",
            "25.)  tensor([ 1.1447,  9.2952, -6.0761]) \t  tensor(1)  \t  1\n",
            "26.)  tensor([ 0.8702,  8.3297, -5.2610]) \t  tensor(1)  \t  1\n",
            "27.)  tensor([ 0.2777,  6.4929, -3.6217]) \t  tensor(1)  \t  1\n",
            "28.)  tensor([ 1.0284,  8.8943, -5.7410]) \t  tensor(1)  \t  1\n",
            "29.)  tensor([ 19.3755,   8.5278, -23.6671]) \t  tensor(0)  \t  0\n",
            "30.)  tensor([-0.0194,  5.8591, -2.6975]) \t  tensor(1)  \t  1\n",
            "We got 28 correct!\n"
          ]
        }
      ]
    }
  ]
}